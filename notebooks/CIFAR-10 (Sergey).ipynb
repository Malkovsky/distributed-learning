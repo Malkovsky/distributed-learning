{
 "cells": [
  {
   "cell_type": "code",
   "execution_count": 1,
   "metadata": {},
   "outputs": [],
   "source": [
    "import torch\n",
    "import torch.nn as nn\n",
    "from torch.utils.data import DataLoader\n",
    "import numpy as np\n",
    "import networkx as nx\n",
    "import matplotlib.pyplot as plt\n",
    "from sklearn.model_selection import train_test_split\n",
    "from pprint import pprint\n",
    "\n",
    "from utils.consensus_node import ConsensusNode\n",
    "from utils.master_node import MasterNode\n",
    "\n",
    "import wide_resnet_submodule.config as cf\n",
    "import torchvision\n",
    "import torchvision.transforms as transforms\n",
    "import torch.nn.functional as F\n",
    "import torch.backends.cudnn as cudnn\n",
    "import torch.optim as optim\n",
    "\n",
    "from wide_resnet_submodule.networks import *\n",
    "from utils.graphs_config import ABC_3, edges2topology, adj2edges\n",
    "from utils.functions import fit_batch_cifar, update_params_cifar, calc_accuracy_cifar, get_cumulative_train_loss"
   ]
  },
  {
   "cell_type": "code",
   "execution_count": 2,
   "metadata": {},
   "outputs": [
    {
     "name": "stdout",
     "output_type": "stream",
     "text": [
      "defaultdict(<class 'dict'>,\n",
      "            {'Alice': {'Alice': 0.3333333333161983,\n",
      "                       'Bob': 0.33333333334053794,\n",
      "                       'Charlie': 0.33333333334326376},\n",
      "             'Bob': {'Alice': 0.33333333334053794,\n",
      "                     'Bob': 0.33333333333233983,\n",
      "                     'Charlie': 0.3333333333271223},\n",
      "             'Charlie': {'Alice': 0.33333333334326376,\n",
      "                         'Bob': 0.3333333333271223,\n",
      "                         'Charlie': 0.333333333329614}})\n"
     ]
    }
   ],
   "source": [
    "topology = edges2topology(adj2edges(ABC_3))\n",
    "n_agents = len(topology)\n",
    "pprint(topology)"
   ]
  },
  {
   "cell_type": "code",
   "execution_count": 3,
   "metadata": {},
   "outputs": [],
   "source": [
    "model_name = 'lenet'\n",
    "num_classes = 10\n",
    "\n",
    "if model_name == 'lenet':\n",
    "    model = LeNet\n",
    "    model_args = [num_classes]\n",
    "elif model_name == 'vggnet':\n",
    "    model = VGG\n",
    "    model_args = [11, num_classes] # VGGnet depth should be either 11, 13, 16, 19\n",
    "elif model_name == 'resnet':\n",
    "    model = ResNet\n",
    "    model_args = [18, num_classes] # Resnet depth should be either 18, 34, 50, 101, 152\n",
    "elif model_name == 'wide-resnet':\n",
    "    model = Wide_ResNet\n",
    "    model_args = [16, 10, 0.3, num_classes] # depth, widen_factor, dropout (Wide-resnet depth should be 6n+4)\n",
    "else:\n",
    "    print('Error: Network should be either [LeNet / VGGNet / ResNet / Wide_ResNet', file=sys.stderr)\n",
    "    exit(0)\n",
    "\n",
    "criterion = nn.CrossEntropyLoss\n",
    "learning_rate = 0.02\n",
    "\n",
    "optimizer = optim.SGD\n",
    "optimizer_kwargs = {'momentum': 0.9, 'weight_decay': 5e-4}"
   ]
  },
  {
   "cell_type": "code",
   "execution_count": 4,
   "metadata": {},
   "outputs": [],
   "source": [
    "# Hyper Parameter settings\n",
    "start_epoch, num_epochs, batch_size, optim_type = cf.start_epoch, cf.num_epochs, cf.batch_size, cf.optim_type"
   ]
  },
  {
   "cell_type": "code",
   "execution_count": 5,
   "metadata": {},
   "outputs": [],
   "source": [
    "dataset_name = 'cifar10'"
   ]
  },
  {
   "cell_type": "code",
   "execution_count": 6,
   "metadata": {},
   "outputs": [
    {
     "name": "stdout",
     "output_type": "stream",
     "text": [
      "Files already downloaded and verified\n"
     ]
    }
   ],
   "source": [
    "# prepare dataset\n",
    "if dataset_name == 'cifar10':\n",
    "    \n",
    "    transform_train = transforms.Compose([\n",
    "        transforms.RandomCrop(32, padding=4),\n",
    "        transforms.RandomHorizontalFlip(),\n",
    "        transforms.ToTensor(),\n",
    "        transforms.Normalize(cf.mean[dataset_name], cf.std[dataset_name]),\n",
    "    ]) # meanstd transformation\n",
    "\n",
    "    transform_test = transforms.Compose([\n",
    "        transforms.ToTensor(),\n",
    "        transforms.Normalize(cf.mean[dataset_name], cf.std[dataset_name]),\n",
    "    ])\n",
    "    \n",
    "    trainset = torchvision.datasets.CIFAR10(root='../data/cifar10',\n",
    "                                            train=True, download=True,\n",
    "                                            transform=transform_train)\n",
    "    testset = torchvision.datasets.CIFAR10(root='../data/cifar10',\n",
    "                                           train=False, download=False,\n",
    "                                           transform=transform_test)\n",
    "   \n",
    "    indices = [i for i in range(len(trainset))]\n",
    "    np.random.shuffle(indices)\n",
    "    indices = indices[:n_agents*(len(trainset) // n_agents)]\n",
    "    indices = np.array_split(indices, n_agents)\n",
    "    subsets = [torch.utils.data.Subset(trainset, indices=ind) for ind in indices]\n",
    "    train_loaders = {node_name: torch.utils.data.DataLoader(subset,\n",
    "                                                       batch_size=batch_size,\n",
    "                                                       shuffle=True,\n",
    "                                                       num_workers=2)\n",
    "                for node_name, subset in zip(topology, subsets)\n",
    "               }\n",
    "    test_loader = torch.utils.data.DataLoader(testset, batch_size=100, shuffle=False, num_workers=2)\n",
    "\n",
    "elif dataset_name == 'titanic':\n",
    "    def prepare_dataset(df):\n",
    "        df = df.drop(['Name', 'Ticket', 'Cabin', 'Embarked'], axis=1)\n",
    "        df['Sex'] = (train_data['Sex'] == 'male').astype(np.int) * 2 - 1\n",
    "        df = df.fillna({'Age': df['Age'].mean()})\n",
    "        df['Age'] /= 100\n",
    "        df['Fare'] /= 100\n",
    "        df['_bias'] = 1\n",
    "        if 'Survived' in df.columns:\n",
    "            return df.drop(['Survived'], axis=1), (df['Survived'] * 2 - 1)\n",
    "        else:\n",
    "            return df\n",
    "    \n",
    "    train_data = pd.read_csv('../data/titanic/train.csv')\n",
    "    train_features, train_answers = prepare_dataset(train_data)\n",
    "\n",
    "    features = ['Pclass', 'Sex', 'Age', 'SibSp', 'Parch', 'Fare', '_bias']\n",
    "    X = train_features[features].to_numpy()\n",
    "    y = train_answers.to_numpy()\n",
    "\n",
    "    common_test_X, common_test_y = X[:X.shape[0] // 10], y[:X.shape[0] // 10]\n",
    "    X_train, y_train = X[X.shape[0] // 10:], y[X.shape[0] // 10:]\n",
    "    \n",
    "    X_train_parts = np.array_split(X_train, n_agents)\n",
    "    y_train_parts = np.array_split(y_train, n_agents)\n",
    "    \n",
    "    train_loaders = {node_name: [(x, y)] for node_name, x, y in zip(topology, X_train_parts, y_train_parts)}\n",
    "    test_loader = (common_test_X, common_test_y)\n",
    "else:\n",
    "    print(\"This dataset is not yet supported.\")\n",
    "    exit(0)"
   ]
  },
  {
   "cell_type": "code",
   "execution_count": 7,
   "metadata": {},
   "outputs": [],
   "source": [
    "num_epochs = 20"
   ]
  },
  {
   "cell_type": "code",
   "execution_count": 8,
   "metadata": {},
   "outputs": [
    {
     "name": "stdout",
     "output_type": "stream",
     "text": [
      "131\n"
     ]
    }
   ],
   "source": [
    "epoch_len = min(len(tl) for tl in train_loaders.values())\n",
    "print(epoch_len)"
   ]
  },
  {
   "cell_type": "code",
   "execution_count": 9,
   "metadata": {},
   "outputs": [
    {
     "name": "stdout",
     "output_type": "stream",
     "text": [
      "CUDA is not available. Check your drivers.\n"
     ]
    }
   ],
   "source": [
    "use_cuda = torch.cuda.is_available()\n",
    "if use_cuda:\n",
    "    print(\"Yes, we use CUDA!\")\n",
    "else:\n",
    "    print(\"CUDA is not available. Check your drivers.\")"
   ]
  },
  {
   "cell_type": "code",
   "execution_count": 10,
   "metadata": {},
   "outputs": [],
   "source": [
    "stat_funcs = {'test_accuracy': calc_accuracy_cifar, 'cumulative_train_loss': get_cumulative_train_loss}\n",
    "statistics = {func_name: {node_name: {'values': [], 'iters': [], 'tmp': 0.0} \n",
    "                          for node_name in topology}\n",
    "              for func_name in stat_funcs}"
   ]
  },
  {
   "cell_type": "code",
   "execution_count": 11,
   "metadata": {},
   "outputs": [],
   "source": [
    "session_name = 'ABC_3'"
   ]
  },
  {
   "cell_type": "code",
   "execution_count": 12,
   "metadata": {},
   "outputs": [],
   "source": [
    "# init master node\n",
    "master = MasterNode(node_names=topology.keys(),\n",
    "                    weights=topology, # param_a = a*param_a + b*param_b + c*param_c, where a + b + c = 1.0\n",
    "                    train_loaders=train_loaders, # dict of train loaders, train_loaders[node_name] = train loader for node_name\n",
    "                    test_loader=test_loader, # general test loader\n",
    "                    fit_step=fit_batch_cifar, # function(node: ConsensusNode, epoch: Int)\n",
    "                    update_params=update_params_cifar, # function(node: ConsensusNode)\n",
    "                    stat_funcs=stat_funcs, # dict of statistic functions\n",
    "                    statistics=statistics,\n",
    "                    stat_step=100, # save statistic each stat step \n",
    "                    epoch=num_epochs, # number of epochs\n",
    "                    epoch_len=epoch_len, # length each epoch\n",
    "                    update_params_epoch_start=3, # the first epoch from which consensus begins\n",
    "                    update_params_period=1, # consensus iteration period\n",
    "                    use_cuda=use_cuda,\n",
    "                    resume_path=None,#f'./checkpoint/{dataset_name}/{session_name}',\n",
    "                    model_save_session=f'{dataset_name}/{session_name}',\n",
    "                    verbose=3 # verbose mode\n",
    "                   )"
   ]
  },
  {
   "cell_type": "code",
   "execution_count": 13,
   "metadata": {},
   "outputs": [
    {
     "name": "stdout",
     "output_type": "stream",
     "text": [
      "Master set model=<class 'wide_resnet_submodule.networks.lenet.LeNet'>, args=(10,), kwargs={}\n"
     ]
    },
    {
     "data": {
      "text/plain": [
       "<utils.master_node.MasterNode at 0x7f5ddf876280>"
      ]
     },
     "execution_count": 13,
     "metadata": {},
     "output_type": "execute_result"
    }
   ],
   "source": [
    "master.set_model(model, *model_args)"
   ]
  },
  {
   "cell_type": "code",
   "execution_count": 14,
   "metadata": {},
   "outputs": [
    {
     "name": "stdout",
     "output_type": "stream",
     "text": [
      "Master set optimizer=<class 'torch.optim.sgd.SGD'>, args=({'momentum': 0.9, 'weight_decay': 0.0005},), kwargs={}\n"
     ]
    },
    {
     "data": {
      "text/plain": [
       "<utils.master_node.MasterNode at 0x7f5ddf876280>"
      ]
     },
     "execution_count": 14,
     "metadata": {},
     "output_type": "execute_result"
    }
   ],
   "source": [
    "master.set_optimizer(optimizer, optimizer_kwargs)"
   ]
  },
  {
   "cell_type": "code",
   "execution_count": 15,
   "metadata": {},
   "outputs": [
    {
     "name": "stdout",
     "output_type": "stream",
     "text": [
      "Master set error=<class 'torch.nn.modules.loss.CrossEntropyLoss'>, args=(), kwargs={}\n"
     ]
    },
    {
     "data": {
      "text/plain": [
       "<utils.master_node.MasterNode at 0x7f5ddf876280>"
      ]
     },
     "execution_count": 15,
     "metadata": {},
     "output_type": "execute_result"
    }
   ],
   "source": [
    "master.set_error(criterion)"
   ]
  },
  {
   "cell_type": "code",
   "execution_count": 16,
   "metadata": {},
   "outputs": [
    {
     "name": "stdout",
     "output_type": "stream",
     "text": [
      "Node Bob set model= LeNet(\n",
      "  (conv1): Conv2d(3, 6, kernel_size=(5, 5), stride=(1, 1))\n",
      "  (conv2): Conv2d(6, 16, kernel_size=(5, 5), stride=(1, 1))\n",
      "  (fc1): Linear(in_features=400, out_features=120, bias=True)\n",
      "  (fc2): Linear(in_features=120, out_features=84, bias=True)\n",
      "  (fc3): Linear(in_features=84, out_features=10, bias=True)\n",
      ") with args= (10,), kwargs= {}, use CUDA= False\n",
      "Node Bob set optimizer=<class 'torch.optim.sgd.SGD'> with args=({'momentum': 0.9, 'weight_decay': 0.0005},), kwargs={}\n",
      "Node Bob set error=CrossEntropyLoss() with args=(), kwargs={}\n",
      "Node Charlie set model= LeNet(\n",
      "  (conv1): Conv2d(3, 6, kernel_size=(5, 5), stride=(1, 1))\n",
      "  (conv2): Conv2d(6, 16, kernel_size=(5, 5), stride=(1, 1))\n",
      "  (fc1): Linear(in_features=400, out_features=120, bias=True)\n",
      "  (fc2): Linear(in_features=120, out_features=84, bias=True)\n",
      "  (fc3): Linear(in_features=84, out_features=10, bias=True)\n",
      ") with args= (10,), kwargs= {}, use CUDA= False\n",
      "Node Charlie set optimizer=<class 'torch.optim.sgd.SGD'> with args=({'momentum': 0.9, 'weight_decay': 0.0005},), kwargs={}\n",
      "Node Charlie set error=CrossEntropyLoss() with args=(), kwargs={}\n",
      "Node Alice set model= LeNet(\n",
      "  (conv1): Conv2d(3, 6, kernel_size=(5, 5), stride=(1, 1))\n",
      "  (conv2): Conv2d(6, 16, kernel_size=(5, 5), stride=(1, 1))\n",
      "  (fc1): Linear(in_features=400, out_features=120, bias=True)\n",
      "  (fc2): Linear(in_features=120, out_features=84, bias=True)\n",
      "  (fc3): Linear(in_features=84, out_features=10, bias=True)\n",
      ") with args= (10,), kwargs= {}, use CUDA= False\n",
      "Node Alice set optimizer=<class 'torch.optim.sgd.SGD'> with args=({'momentum': 0.9, 'weight_decay': 0.0005},), kwargs={}\n",
      "Node Alice set error=CrossEntropyLoss() with args=(), kwargs={}\n"
     ]
    },
    {
     "data": {
      "text/plain": [
       "<utils.master_node.MasterNode at 0x7f5ddf876280>"
      ]
     },
     "execution_count": 16,
     "metadata": {},
     "output_type": "execute_result"
    }
   ],
   "source": [
    "# init consensus nodes\n",
    "master.initialize_nodes()"
   ]
  },
  {
   "cell_type": "code",
   "execution_count": 17,
   "metadata": {},
   "outputs": [],
   "source": [
    "# for pretty outputs uncomment (if warnings)\n",
    "# import warnings\n",
    "# warnings.simplefilter(action='ignore', category=Warning)"
   ]
  },
  {
   "cell_type": "code",
   "execution_count": 18,
   "metadata": {},
   "outputs": [
    {
     "name": "stdout",
     "output_type": "stream",
     "text": [
      "Master started\n",
      "\n"
     ]
    },
    {
     "data": {
      "application/vnd.jupyter.widget-view+json": {
       "model_id": "fda908ed7a024a86bbf05f3289a2b18c",
       "version_major": 2,
       "version_minor": 0
      },
      "text/plain": [
       "HBox(children=(HTML(value=''), FloatProgress(value=0.0, max=20.0), HTML(value='')))"
      ]
     },
     "metadata": {},
     "output_type": "display_data"
    },
    {
     "name": "stdout",
     "output_type": "stream",
     "text": [
      "Epoch 1:\n",
      "Node Bob: epoch 1, iter 100, test_accuracy= 12.39\n",
      "Node Bob: epoch 1, iter 100, cumulative_train_loss= 230.13\n",
      "Node Charlie: epoch 1, iter 100, test_accuracy= 16.22\n",
      "Node Charlie: epoch 1, iter 100, cumulative_train_loss= 229.83\n",
      "Node Alice: epoch 1, iter 100, test_accuracy= 10.66\n",
      "Node Alice: epoch 1, iter 100, cumulative_train_loss= 229.94\n",
      "Saving models...\n",
      "Epoch 1 ended in 25.11 sec\n",
      "\n",
      "Epoch 2:\n",
      "Node Bob: epoch 2, iter 200, test_accuracy= 15.91\n",
      "Node Bob: epoch 2, iter 200, cumulative_train_loss= 228.14\n",
      "Node Charlie: epoch 2, iter 200, test_accuracy= 19.01\n",
      "Node Charlie: epoch 2, iter 200, cumulative_train_loss= 226.03\n",
      "Node Alice: epoch 2, iter 200, test_accuracy= 19.30\n",
      "Node Alice: epoch 2, iter 200, cumulative_train_loss= 227.07\n",
      "Saving models...\n",
      "Epoch 2 ended in 13.14 sec\n",
      "\n",
      "Epoch 3:\n",
      "Node Bob: epoch 3, iter 300, test_accuracy= 12.38\n",
      "Node Bob: epoch 3, iter 300, cumulative_train_loss= 225.26\n",
      "Node Charlie: epoch 3, iter 300, test_accuracy= 12.41\n",
      "Node Charlie: epoch 3, iter 300, cumulative_train_loss= 222.44\n",
      "Node Alice: epoch 3, iter 300, test_accuracy= 12.43\n",
      "Node Alice: epoch 3, iter 300, cumulative_train_loss= 223.72\n",
      "Saving models...\n",
      "Epoch 3 ended in 13.01 sec\n",
      "\n",
      "Epoch 4:\n",
      "Node Bob: epoch 4, iter 400, test_accuracy= 20.45\n",
      "Node Bob: epoch 4, iter 400, cumulative_train_loss= 228.69\n",
      "Node Charlie: epoch 4, iter 400, test_accuracy= 20.50\n",
      "Node Charlie: epoch 4, iter 400, cumulative_train_loss= 228.69\n",
      "Node Alice: epoch 4, iter 400, test_accuracy= 20.53\n",
      "Node Alice: epoch 4, iter 400, cumulative_train_loss= 228.76\n",
      "Node Bob: epoch 4, iter 500, test_accuracy= 20.51\n",
      "Node Bob: epoch 4, iter 500, cumulative_train_loss= 222.64\n",
      "Node Charlie: epoch 4, iter 500, test_accuracy= 20.22\n",
      "Node Charlie: epoch 4, iter 500, cumulative_train_loss= 222.75\n",
      "Node Alice: epoch 4, iter 500, test_accuracy= 20.26\n",
      "Node Alice: epoch 4, iter 500, cumulative_train_loss= 222.90\n",
      "Saving models...\n",
      "Epoch 4 ended in 23.33 sec\n",
      "\n",
      "Epoch 5:\n",
      "Node Bob: epoch 5, iter 600, test_accuracy= 26.07\n",
      "Node Bob: epoch 5, iter 600, cumulative_train_loss= 209.77\n",
      "Node Charlie: epoch 5, iter 600, test_accuracy= 25.98\n",
      "Node Charlie: epoch 5, iter 600, cumulative_train_loss= 210.15\n",
      "Node Alice: epoch 5, iter 600, test_accuracy= 26.00\n",
      "Node Alice: epoch 5, iter 600, cumulative_train_loss= 210.36\n",
      "Saving models...\n",
      "Epoch 5 ended in 16.33 sec\n",
      "\n",
      "Epoch 6:\n",
      "Node Bob: epoch 6, iter 700, test_accuracy= 28.42\n",
      "Node Bob: epoch 6, iter 700, cumulative_train_loss= 202.85\n",
      "Node Charlie: epoch 6, iter 700, test_accuracy= 28.58\n",
      "Node Charlie: epoch 6, iter 700, cumulative_train_loss= 202.79\n",
      "Node Alice: epoch 6, iter 700, test_accuracy= 28.42\n",
      "Node Alice: epoch 6, iter 700, cumulative_train_loss= 203.49\n",
      "Saving models...\n",
      "Epoch 6 ended in 13.16 sec\n",
      "\n",
      "Epoch 7:\n",
      "Node Bob: epoch 7, iter 800, test_accuracy= 30.40\n",
      "Node Bob: epoch 7, iter 800, cumulative_train_loss= 198.66\n",
      "Node Charlie: epoch 7, iter 800, test_accuracy= 30.31\n",
      "Node Charlie: epoch 7, iter 800, cumulative_train_loss= 197.74\n",
      "Node Alice: epoch 7, iter 800, test_accuracy= 30.34\n",
      "Node Alice: epoch 7, iter 800, cumulative_train_loss= 198.77\n",
      "Node Bob: epoch 7, iter 900, test_accuracy= 31.80\n",
      "Node Bob: epoch 7, iter 900, cumulative_train_loss= 193.67\n",
      "Node Charlie: epoch 7, iter 900, test_accuracy= 31.68\n",
      "Node Charlie: epoch 7, iter 900, cumulative_train_loss= 192.95\n",
      "Node Alice: epoch 7, iter 900, test_accuracy= 32.11\n",
      "Node Alice: epoch 7, iter 900, cumulative_train_loss= 194.17\n",
      "Saving models...\n",
      "Epoch 7 ended in 20.09 sec\n",
      "\n",
      "Epoch 8:\n",
      "Node Bob: epoch 8, iter 1000, test_accuracy= 32.86\n",
      "Node Bob: epoch 8, iter 1000, cumulative_train_loss= 190.95\n",
      "Node Charlie: epoch 8, iter 1000, test_accuracy= 33.15\n",
      "Node Charlie: epoch 8, iter 1000, cumulative_train_loss= 190.23\n",
      "Node Alice: epoch 8, iter 1000, test_accuracy= 33.15\n",
      "Node Alice: epoch 8, iter 1000, cumulative_train_loss= 191.08\n",
      "Saving models...\n",
      "Epoch 8 ended in 13.54 sec\n",
      "\n",
      "Epoch 9:\n",
      "Node Bob: epoch 9, iter 1100, test_accuracy= 32.82\n",
      "Node Bob: epoch 9, iter 1100, cumulative_train_loss= 188.08\n",
      "Node Charlie: epoch 9, iter 1100, test_accuracy= 32.74\n",
      "Node Charlie: epoch 9, iter 1100, cumulative_train_loss= 188.36\n",
      "Node Alice: epoch 9, iter 1100, test_accuracy= 32.56\n",
      "Node Alice: epoch 9, iter 1100, cumulative_train_loss= 188.63\n",
      "Saving models...\n",
      "Epoch 9 ended in 11.09 sec\n",
      "\n",
      "Epoch 10:\n",
      "Node Bob: epoch 10, iter 1200, test_accuracy= 34.06\n",
      "Node Bob: epoch 10, iter 1200, cumulative_train_loss= 186.89\n",
      "Node Charlie: epoch 10, iter 1200, test_accuracy= 34.16\n",
      "Node Charlie: epoch 10, iter 1200, cumulative_train_loss= 185.89\n",
      "Node Alice: epoch 10, iter 1200, test_accuracy= 33.69\n",
      "Node Alice: epoch 10, iter 1200, cumulative_train_loss= 186.68\n",
      "Node Bob: epoch 10, iter 1300, test_accuracy= 33.46\n",
      "Node Bob: epoch 10, iter 1300, cumulative_train_loss= 183.50\n",
      "Node Charlie: epoch 10, iter 1300, test_accuracy= 33.54\n",
      "Node Charlie: epoch 10, iter 1300, cumulative_train_loss= 183.12\n",
      "Node Alice: epoch 10, iter 1300, test_accuracy= 32.69\n",
      "Node Alice: epoch 10, iter 1300, cumulative_train_loss= 184.66\n",
      "Saving models...\n",
      "Epoch 10 ended in 18.06 sec\n",
      "\n",
      "Epoch 11:\n",
      "Node Bob: epoch 11, iter 1400, test_accuracy= 36.32\n",
      "Node Bob: epoch 11, iter 1400, cumulative_train_loss= 181.09\n",
      "Node Charlie: epoch 11, iter 1400, test_accuracy= 36.39\n",
      "Node Charlie: epoch 11, iter 1400, cumulative_train_loss= 180.68\n",
      "Node Alice: epoch 11, iter 1400, test_accuracy= 36.61\n",
      "Node Alice: epoch 11, iter 1400, cumulative_train_loss= 181.16\n",
      "Saving models...\n",
      "Epoch 11 ended in 12.96 sec\n",
      "\n",
      "Epoch 12:\n",
      "Node Bob: epoch 12, iter 1500, test_accuracy= 36.72\n",
      "Node Bob: epoch 12, iter 1500, cumulative_train_loss= 178.95\n",
      "Node Charlie: epoch 12, iter 1500, test_accuracy= 36.33\n",
      "Node Charlie: epoch 12, iter 1500, cumulative_train_loss= 179.26\n",
      "Node Alice: epoch 12, iter 1500, test_accuracy= 36.49\n",
      "Node Alice: epoch 12, iter 1500, cumulative_train_loss= 179.48\n",
      "Saving models...\n",
      "Epoch 12 ended in 13.59 sec\n",
      "\n",
      "Epoch 13:\n",
      "Node Bob: epoch 13, iter 1600, test_accuracy= 37.93\n",
      "Node Bob: epoch 13, iter 1600, cumulative_train_loss= 178.09\n",
      "Node Charlie: epoch 13, iter 1600, test_accuracy= 37.03\n",
      "Node Charlie: epoch 13, iter 1600, cumulative_train_loss= 177.42\n",
      "Node Alice: epoch 13, iter 1600, test_accuracy= 37.31\n",
      "Node Alice: epoch 13, iter 1600, cumulative_train_loss= 177.46\n",
      "Node Bob: epoch 13, iter 1700, test_accuracy= 38.86\n",
      "Node Bob: epoch 13, iter 1700, cumulative_train_loss= 175.19\n",
      "Node Charlie: epoch 13, iter 1700, test_accuracy= 39.02\n",
      "Node Charlie: epoch 13, iter 1700, cumulative_train_loss= 174.87\n",
      "Node Alice: epoch 13, iter 1700, test_accuracy= 38.43\n",
      "Node Alice: epoch 13, iter 1700, cumulative_train_loss= 175.93\n",
      "Saving models...\n",
      "Epoch 13 ended in 24.05 sec\n",
      "\n",
      "Epoch 14:\n",
      "Node Bob: epoch 14, iter 1800, test_accuracy= 40.24\n",
      "Node Bob: epoch 14, iter 1800, cumulative_train_loss= 173.50\n",
      "Node Charlie: epoch 14, iter 1800, test_accuracy= 40.25\n",
      "Node Charlie: epoch 14, iter 1800, cumulative_train_loss= 173.54\n",
      "Node Alice: epoch 14, iter 1800, test_accuracy= 40.20\n",
      "Node Alice: epoch 14, iter 1800, cumulative_train_loss= 173.62\n",
      "Saving models...\n",
      "Epoch 14 ended in 11.97 sec\n",
      "\n",
      "Epoch 15:\n",
      "Node Bob: epoch 15, iter 1900, test_accuracy= 38.91\n",
      "Node Bob: epoch 15, iter 1900, cumulative_train_loss= 171.93\n",
      "Node Charlie: epoch 15, iter 1900, test_accuracy= 38.53\n",
      "Node Charlie: epoch 15, iter 1900, cumulative_train_loss= 172.24\n",
      "Node Alice: epoch 15, iter 1900, test_accuracy= 38.29\n",
      "Node Alice: epoch 15, iter 1900, cumulative_train_loss= 172.55\n",
      "Saving models...\n",
      "Epoch 15 ended in 13.19 sec\n",
      "\n",
      "Epoch 16:\n",
      "Node Bob: epoch 16, iter 2000, test_accuracy= 41.24\n",
      "Node Bob: epoch 16, iter 2000, cumulative_train_loss= 171.06\n",
      "Node Charlie: epoch 16, iter 2000, test_accuracy= 41.25\n",
      "Node Charlie: epoch 16, iter 2000, cumulative_train_loss= 171.26\n",
      "Node Alice: epoch 16, iter 2000, test_accuracy= 41.15\n",
      "Node Alice: epoch 16, iter 2000, cumulative_train_loss= 170.74\n",
      "Saving models...\n",
      "Epoch 16 ended in 12.28 sec\n",
      "\n",
      "Epoch 17:\n",
      "Node Bob: epoch 17, iter 2100, test_accuracy= 41.06\n",
      "Node Bob: epoch 17, iter 2100, cumulative_train_loss= 169.97\n",
      "Node Charlie: epoch 17, iter 2100, test_accuracy= 41.06\n",
      "Node Charlie: epoch 17, iter 2100, cumulative_train_loss= 169.06\n",
      "Node Alice: epoch 17, iter 2100, test_accuracy= 40.83\n",
      "Node Alice: epoch 17, iter 2100, cumulative_train_loss= 170.00\n",
      "Node Bob: epoch 17, iter 2200, test_accuracy= 42.34\n",
      "Node Bob: epoch 17, iter 2200, cumulative_train_loss= 165.68\n"
     ]
    },
    {
     "name": "stdout",
     "output_type": "stream",
     "text": [
      "Node Charlie: epoch 17, iter 2200, test_accuracy= 42.28\n",
      "Node Charlie: epoch 17, iter 2200, cumulative_train_loss= 166.78\n",
      "Node Alice: epoch 17, iter 2200, test_accuracy= 42.15\n",
      "Node Alice: epoch 17, iter 2200, cumulative_train_loss= 166.73\n",
      "Saving models...\n",
      "Epoch 17 ended in 19.74 sec\n",
      "\n",
      "Epoch 18:\n",
      "Node Bob: epoch 18, iter 2300, test_accuracy= 43.17\n",
      "Node Bob: epoch 18, iter 2300, cumulative_train_loss= 165.99\n",
      "Node Charlie: epoch 18, iter 2300, test_accuracy= 42.84\n",
      "Node Charlie: epoch 18, iter 2300, cumulative_train_loss= 165.69\n",
      "Node Alice: epoch 18, iter 2300, test_accuracy= 42.69\n",
      "Node Alice: epoch 18, iter 2300, cumulative_train_loss= 165.67\n",
      "Saving models...\n",
      "Epoch 18 ended in 13.21 sec\n",
      "\n",
      "Epoch 19:\n",
      "Node Bob: epoch 19, iter 2400, test_accuracy= 43.21\n",
      "Node Bob: epoch 19, iter 2400, cumulative_train_loss= 164.19\n",
      "Node Charlie: epoch 19, iter 2400, test_accuracy= 43.46\n",
      "Node Charlie: epoch 19, iter 2400, cumulative_train_loss= 165.11\n",
      "Node Alice: epoch 19, iter 2400, test_accuracy= 43.51\n",
      "Node Alice: epoch 19, iter 2400, cumulative_train_loss= 165.00\n",
      "Saving models...\n",
      "Epoch 19 ended in 14.29 sec\n",
      "\n",
      "Epoch 20:\n",
      "Node Bob: epoch 20, iter 2500, test_accuracy= 44.42\n",
      "Node Bob: epoch 20, iter 2500, cumulative_train_loss= 163.69\n",
      "Node Charlie: epoch 20, iter 2500, test_accuracy= 44.24\n",
      "Node Charlie: epoch 20, iter 2500, cumulative_train_loss= 162.89\n",
      "Node Alice: epoch 20, iter 2500, test_accuracy= 44.74\n",
      "Node Alice: epoch 20, iter 2500, cumulative_train_loss= 162.97\n",
      "Node Bob: epoch 20, iter 2600, test_accuracy= 44.37\n",
      "Node Bob: epoch 20, iter 2600, cumulative_train_loss= 160.32\n",
      "Node Charlie: epoch 20, iter 2600, test_accuracy= 44.73\n",
      "Node Charlie: epoch 20, iter 2600, cumulative_train_loss= 160.75\n",
      "Node Alice: epoch 20, iter 2600, test_accuracy= 44.43\n",
      "Node Alice: epoch 20, iter 2600, cumulative_train_loss= 161.47\n",
      "Saving models...\n",
      "Epoch 20 ended in 25.42 sec\n",
      "\n",
      "\n",
      "Master ended in 327.63 sec\n",
      "\n",
      "Done!\n"
     ]
    }
   ],
   "source": [
    "master.start_consensus()\n",
    "print('Done!')"
   ]
  },
  {
   "cell_type": "code",
   "execution_count": 19,
   "metadata": {},
   "outputs": [
    {
     "data": {
      "image/png": "[encoded data removed]",
      "text/plain": [
       "<Figure size 1440x1152 with 2 Axes>"
      ]
     },
     "metadata": {
      "needs_background": "light"
     },
     "output_type": "display_data"
    }
   ],
   "source": [
    "def get_cmap(n, name='hsv'):\n",
    "    '''\n",
    "    Returns a function that maps each index in 0, 1, ..., n-1 to a distinct \n",
    "    RGB color; the keyword argument name must be a standard mpl colormap name.\n",
    "    '''\n",
    "    return plt.cm.get_cmap(name, n)\n",
    "cmap = get_cmap(n_agents + 1)\n",
    "\n",
    "fig, axs = plt.subplots(len(statistics), 1, figsize=(20, 16))\n",
    "fig.tight_layout(pad=6.0)\n",
    "\n",
    "for i, (func_name, node_stat) in enumerate(statistics.items()):\n",
    "    axs[i].set_title(func_name, fontsize=24)\n",
    "    axs[i].set_xlabel('Iteration', fontsize=18)\n",
    "    axs[i].set_ylabel(func_name, fontsize=18)\n",
    "    for j, (node_name, stat) in enumerate(node_stat.items()):\n",
    "        axs[i].plot(stat['iters'], stat['values'], label=node_name, linestyle='--', color=cmap(j))\n",
    "    axs[i].legend(loc=3, fontsize=16)\n",
    "plt.show()"
   ]
  },
  {
   "cell_type": "code",
   "execution_count": null,
   "metadata": {},
   "outputs": [],
   "source": []
  }
 ],
 "metadata": {
  "kernelspec": {
   "display_name": "Python 3",
   "language": "python",
   "name": "python3"
  },
  "language_info": {
   "codemirror_mode": {
    "name": "ipython",
    "version": 3
   },
   "file_extension": ".py",
   "mimetype": "text/x-python",
   "name": "python",
   "nbconvert_exporter": "python",
   "pygments_lexer": "ipython3",
   "version": "3.8.5"
  }
 },
 "nbformat": 4,
 "nbformat_minor": 1
}
