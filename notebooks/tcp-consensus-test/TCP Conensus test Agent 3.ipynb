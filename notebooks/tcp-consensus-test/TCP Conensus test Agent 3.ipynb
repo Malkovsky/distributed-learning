{
 "cells": [
  {
   "cell_type": "code",
   "execution_count": 1,
   "metadata": {},
   "outputs": [],
   "source": [
    "import numpy as np\n",
    "import pandas as pd\n",
    "import matplotlib.pyplot as plt\n",
    "import asyncio\n",
    "\n",
    "import os\n",
    "import sys\n",
    "module_path = os.path.abspath('../..')\n",
    "if module_path not in sys.path:\n",
    "    sys.path.append(module_path)"
   ]
  },
  {
   "cell_type": "code",
   "execution_count": 2,
   "metadata": {},
   "outputs": [],
   "source": [
    "from utils.consensus_tcp import ConsensusMaster, ConsensusAgent"
   ]
  },
  {
   "cell_type": "code",
   "execution_count": 3,
   "metadata": {},
   "outputs": [],
   "source": [
    "agent = ConsensusAgent(3, '127.0.0.1', 9003, '127.0.0.1', 9000, convergence_eps=1e-3, debug=True)"
   ]
  },
  {
   "cell_type": "code",
   "execution_count": 4,
   "metadata": {},
   "outputs": [
    {
     "name": "stdout",
     "output_type": "stream",
     "text": [
      "Serving on ('127.0.0.1', 9003)\n"
     ]
    },
    {
     "name": "stderr",
     "output_type": "stream",
     "text": [
      "Agent \"3\": Serving...\n"
     ]
    }
   ],
   "source": [
    "agent_serve_task = asyncio.create_task(agent.serve_forever())"
   ]
  },
  {
   "cell_type": "code",
   "execution_count": 5,
   "metadata": {},
   "outputs": [
    {
     "name": "stderr",
     "output_type": "stream",
     "text": [
      "Agent \"3\": Performing handshake with master\n",
      "Agent \"3\": Successfully registered. Waiting for neighborhood data...\n",
      "Agent \"3\": Got neighborhood data. Waiting for consensus epsilon...\n",
      "Agent \"3\": Got consensus epsilon!\n",
      "Agent \"3\": Performing handshake with neighbors...\n",
      "Agent \"3\": Performing handshake with 2\n",
      "Agent \"3\": Success!\n",
      "Agent \"3\": We are ready for consensus now!\n",
      "Agent \"3\": running new round with v=[0. 0. 1.], w=1\n",
      "Agent \"3\": sending new round request to master\n",
      "Agent \"3\": waiting for new round notification from master\n",
      "Agent \"3\": From: ('127.0.0.1', 56018). Registered 2!\n",
      "Agent \"3\": Got new round notification from master! Round id: 1\n",
      "Agent \"3\": Adding value to history with key (1, 0)\n",
      "Agent \"3\": requesting value from agent(2) - (1, 0)\n",
      "Agent \"3\": got value from \"2\"!\n",
      "Agent \"3\": finished iteration #0\n",
      "Agent \"3\": Adding value to history with key (1, 1)\n",
      "Agent \"3\": requesting value from agent(2) - (1, 1)\n",
      "Agent \"3\": Got value request from agent(2) for (1, 0)\n",
      "Agent \"3\": All neighbors got our value for (1, 0)! Deleting it\n",
      "Agent \"3\": Got value request from agent(2) for (1, 1)\n",
      "Agent \"3\": All neighbors got our value for (1, 1)! Deleting it\n",
      "Agent \"3\": Got value request from agent(2) for (1, 2)\n",
      "Agent \"3\": got value from \"2\"!\n",
      "Agent \"3\": finished iteration #1\n",
      "Agent \"3\": Adding value to history with key (1, 2)\n",
      "Agent \"3\": requesting value from agent(2) - (1, 2)\n",
      "Agent \"3\": got value from \"2\"!\n",
      "Agent \"3\": finished iteration #2\n",
      "Agent \"3\": Adding value to history with key (1, 3)\n",
      "Agent \"3\": requesting value from agent(2) - (1, 3)\n",
      "Agent \"3\": All neighbors got our value for (1, 2)! Deleting it\n",
      "Agent \"3\": Got value request from agent(2) for (1, 3)\n",
      "Agent \"3\": All neighbors got our value for (1, 3)! Deleting it\n",
      "Agent \"3\": Got value request from agent(2) for (1, 4)\n",
      "Agent \"3\": got value from \"2\"!\n",
      "Agent \"3\": finished iteration #3\n",
      "Agent \"3\": Adding value to history with key (1, 4)\n",
      "Agent \"3\": requesting value from agent(2) - (1, 4)\n",
      "Agent \"3\": got value from \"2\"!\n",
      "Agent \"3\": finished iteration #4\n",
      "Agent \"3\": Adding value to history with key (1, 5)\n",
      "Agent \"3\": requesting value from agent(2) - (1, 5)\n",
      "Agent \"3\": All neighbors got our value for (1, 4)! Deleting it\n",
      "Agent \"3\": Got value request from agent(2) for (1, 5)\n",
      "Agent \"3\": All neighbors got our value for (1, 5)! Deleting it\n",
      "Agent \"3\": got value from \"2\"!\n",
      "Agent \"3\": finished iteration #5\n",
      "Agent \"3\": Adding value to history with key (1, 6)\n",
      "Agent \"3\": requesting value from agent(2) - (1, 6)\n",
      "Agent \"3\": Got value request from agent(2) for (1, 6)\n",
      "Agent \"3\": All neighbors got our value for (1, 6)! Deleting it\n",
      "Agent \"3\": got value from \"2\"!\n",
      "Agent \"3\": finished iteration #6\n",
      "Agent \"3\": Adding value to history with key (1, 7)\n",
      "Agent \"3\": requesting value from agent(2) - (1, 7)\n",
      "Agent \"3\": Got value request from agent(2) for (1, 7)\n",
      "Agent \"3\": All neighbors got our value for (1, 7)! Deleting it\n",
      "Agent \"3\": Got value request from agent(2) for (1, 8)\n",
      "Agent \"3\": got value from \"2\"!\n",
      "Agent \"3\": finished iteration #7\n",
      "Agent \"3\": Adding value to history with key (1, 8)\n",
      "Agent \"3\": requesting value from agent(2) - (1, 8)\n",
      "Agent \"3\": got value from \"2\"!\n",
      "Agent \"3\": finished iteration #8\n",
      "Agent \"3\": Adding value to history with key (1, 9)\n",
      "Agent \"3\": requesting value from agent(2) - (1, 9)\n",
      "Agent \"3\": All neighbors got our value for (1, 8)! Deleting it\n",
      "Agent \"3\": Got value request from agent(2) for (1, 9)\n",
      "Agent \"3\": All neighbors got our value for (1, 9)! Deleting it\n",
      "Agent \"3\": Got value request from agent(2) for (1, 10)\n",
      "Agent \"3\": got value from \"2\"!\n",
      "Agent \"3\": finished iteration #9\n",
      "Agent \"3\": Adding value to history with key (1, 10)\n",
      "Agent \"3\": sending CONVERGED to master\n",
      "Agent \"3\": requesting value from agent(2) - (1, 10)\n",
      "Agent \"3\": got value from \"2\"!\n",
      "Agent \"3\": finished iteration #10\n",
      "Agent \"3\": Adding value to history with key (1, 11)\n",
      "Agent \"3\": requesting value from agent(2) - (1, 11)\n",
      "Agent \"3\": All neighbors got our value for (1, 10)! Deleting it\n",
      "Agent \"3\": Got value request from agent(2) for (1, 11)\n",
      "Agent \"3\": All neighbors got our value for (1, 11)! Deleting it\n",
      "Agent \"3\": got DONE from master!!!\n",
      "Agent \"3\": final result: [0.33290215 0.33336057 0.33373728]\n"
     ]
    },
    {
     "data": {
      "text/plain": [
       "array([0.33290215, 0.33336057, 0.33373728])"
      ]
     },
     "execution_count": 5,
     "metadata": {},
     "output_type": "execute_result"
    }
   ],
   "source": [
    "await agent.run_round(np.array([0., 0., 1.]), 1)"
   ]
  },
  {
   "cell_type": "code",
   "execution_count": 6,
   "metadata": {},
   "outputs": [
    {
     "name": "stderr",
     "output_type": "stream",
     "text": [
      "Agent \"3\": running new round with v=[ 0.  0. 10.], w=3\n",
      "Agent \"3\": sending new round request to master\n",
      "Agent \"3\": waiting for new round notification from master\n",
      "Agent \"3\": Got new round notification from master! Round id: 2\n",
      "Agent \"3\": Adding value to history with key (2, 0)\n",
      "Agent \"3\": requesting value from agent(2) - (2, 0)\n",
      "Agent \"3\": ! got request/response from \"2\" from previous round/iteration: (1, 11)\n",
      "Agent \"3\": Got value request from agent(2) for (2, 0)\n",
      "Agent \"3\": All neighbors got our value for (2, 0)! Deleting it\n",
      "Agent \"3\": got value from \"2\"!\n",
      "Agent \"3\": finished iteration #0\n",
      "Agent \"3\": Adding value to history with key (2, 1)\n",
      "Agent \"3\": requesting value from agent(2) - (2, 1)\n",
      "Agent \"3\": Got value request from agent(2) for (2, 1)\n",
      "Agent \"3\": All neighbors got our value for (2, 1)! Deleting it\n",
      "Agent \"3\": got value from \"2\"!\n",
      "Agent \"3\": finished iteration #1\n",
      "Agent \"3\": Adding value to history with key (2, 2)\n",
      "Agent \"3\": requesting value from agent(2) - (2, 2)\n",
      "Agent \"3\": Got value request from agent(2) for (2, 2)\n",
      "Agent \"3\": All neighbors got our value for (2, 2)! Deleting it\n",
      "Agent \"3\": got value from \"2\"!\n",
      "Agent \"3\": finished iteration #2\n",
      "Agent \"3\": Adding value to history with key (2, 3)\n",
      "Agent \"3\": requesting value from agent(2) - (2, 3)\n",
      "Agent \"3\": Got value request from agent(2) for (2, 3)\n",
      "Agent \"3\": All neighbors got our value for (2, 3)! Deleting it\n",
      "Agent \"3\": got value from \"2\"!\n",
      "Agent \"3\": finished iteration #3\n",
      "Agent \"3\": Adding value to history with key (2, 4)\n",
      "Agent \"3\": requesting value from agent(2) - (2, 4)\n",
      "Agent \"3\": Got value request from agent(2) for (2, 4)\n",
      "Agent \"3\": All neighbors got our value for (2, 4)! Deleting it\n",
      "Agent \"3\": got value from \"2\"!\n",
      "Agent \"3\": finished iteration #4\n",
      "Agent \"3\": Adding value to history with key (2, 5)\n",
      "Agent \"3\": requesting value from agent(2) - (2, 5)\n",
      "Agent \"3\": Got value request from agent(2) for (2, 5)\n",
      "Agent \"3\": All neighbors got our value for (2, 5)! Deleting it\n",
      "Agent \"3\": Got value request from agent(2) for (2, 6)\n",
      "Agent \"3\": got value from \"2\"!\n",
      "Agent \"3\": finished iteration #5\n",
      "Agent \"3\": Adding value to history with key (2, 6)\n",
      "Agent \"3\": requesting value from agent(2) - (2, 6)\n",
      "Agent \"3\": All neighbors got our value for (2, 6)! Deleting it\n",
      "Agent \"3\": Got value request from agent(2) for (2, 7)\n",
      "Agent \"3\": got value from \"2\"!\n",
      "Agent \"3\": finished iteration #6\n",
      "Agent \"3\": Adding value to history with key (2, 7)\n",
      "Agent \"3\": requesting value from agent(2) - (2, 7)\n",
      "Agent \"3\": got value from \"2\"!\n",
      "Agent \"3\": finished iteration #7\n",
      "Agent \"3\": Adding value to history with key (2, 8)\n",
      "Agent \"3\": requesting value from agent(2) - (2, 8)\n",
      "Agent \"3\": All neighbors got our value for (2, 7)! Deleting it\n",
      "Agent \"3\": Got value request from agent(2) for (2, 8)\n",
      "Agent \"3\": All neighbors got our value for (2, 8)! Deleting it\n",
      "Agent \"3\": Got value request from agent(2) for (2, 9)\n",
      "Agent \"3\": got value from \"2\"!\n",
      "Agent \"3\": finished iteration #8\n",
      "Agent \"3\": Adding value to history with key (2, 9)\n",
      "Agent \"3\": requesting value from agent(2) - (2, 9)\n",
      "Agent \"3\": got value from \"2\"!\n",
      "Agent \"3\": finished iteration #9\n",
      "Agent \"3\": Adding value to history with key (2, 10)\n",
      "Agent \"3\": requesting value from agent(2) - (2, 10)\n",
      "Agent \"3\": All neighbors got our value for (2, 9)! Deleting it\n",
      "Agent \"3\": Got value request from agent(2) for (2, 10)\n",
      "Agent \"3\": All neighbors got our value for (2, 10)! Deleting it\n",
      "Agent \"3\": Got value request from agent(2) for (2, 11)\n",
      "Agent \"3\": got value from \"2\"!\n",
      "Agent \"3\": finished iteration #10\n",
      "Agent \"3\": Adding value to history with key (2, 11)\n",
      "Agent \"3\": requesting value from agent(2) - (2, 11)\n",
      "Agent \"3\": got value from \"2\"!\n",
      "Agent \"3\": finished iteration #11\n",
      "Agent \"3\": Adding value to history with key (2, 12)\n",
      "Agent \"3\": requesting value from agent(2) - (2, 12)\n",
      "Agent \"3\": All neighbors got our value for (2, 11)! Deleting it\n",
      "Agent \"3\": Got value request from agent(2) for (2, 12)\n",
      "Agent \"3\": All neighbors got our value for (2, 12)! Deleting it\n",
      "Agent \"3\": Got value request from agent(2) for (2, 13)\n",
      "Agent \"3\": got value from \"2\"!\n",
      "Agent \"3\": finished iteration #12\n",
      "Agent \"3\": Adding value to history with key (2, 13)\n",
      "Agent \"3\": requesting value from agent(2) - (2, 13)\n",
      "Agent \"3\": got value from \"2\"!\n",
      "Agent \"3\": finished iteration #13\n",
      "Agent \"3\": Adding value to history with key (2, 14)\n",
      "Agent \"3\": sending CONVERGED to master\n",
      "Agent \"3\": requesting value from agent(2) - (2, 14)\n",
      "Agent \"3\": All neighbors got our value for (2, 13)! Deleting it\n",
      "Agent \"3\": Got value request from agent(2) for (2, 14)\n",
      "Agent \"3\": All neighbors got our value for (2, 14)! Deleting it\n",
      "Agent \"3\": got value from \"2\"!\n",
      "Agent \"3\": finished iteration #14\n",
      "Agent \"3\": Adding value to history with key (2, 15)\n",
      "Agent \"3\": requesting value from agent(2) - (2, 15)\n",
      "Agent \"3\": Got value request from agent(2) for (2, 15)\n",
      "Agent \"3\": All neighbors got our value for (2, 15)! Deleting it\n",
      "Agent \"3\": got DONE from master!!!\n",
      "Agent \"3\": final result: [1.66650584 3.33334222 5.00046916]\n"
     ]
    },
    {
     "data": {
      "text/plain": [
       "array([1.66650584, 3.33334222, 5.00046916])"
      ]
     },
     "execution_count": 6,
     "metadata": {},
     "output_type": "execute_result"
    },
    {
     "name": "stderr",
     "output_type": "stream",
     "text": [
      "Agent \"3\": Got value request from agent(2) for (2, 16)\n"
     ]
    }
   ],
   "source": [
    "await agent.run_round(np.array([0., 0., 10.]), 3)"
   ]
  },
  {
   "cell_type": "code",
   "execution_count": null,
   "metadata": {},
   "outputs": [],
   "source": []
  }
 ],
 "metadata": {
  "kernelspec": {
   "display_name": "lab",
   "language": "python",
   "name": "lab"
  },
  "language_info": {
   "codemirror_mode": {
    "name": "ipython",
    "version": 3
   },
   "file_extension": ".py",
   "mimetype": "text/x-python",
   "name": "python",
   "nbconvert_exporter": "python",
   "pygments_lexer": "ipython3",
   "version": "3.8.3"
  }
 },
 "nbformat": 4,
 "nbformat_minor": 4
}
