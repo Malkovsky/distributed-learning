{
 "cells": [
  {
   "cell_type": "code",
   "execution_count": 1,
   "metadata": {},
   "outputs": [],
   "source": [
    "import numpy as np\n",
    "import pandas as pd\n",
    "import matplotlib.pyplot as plt\n",
    "\n",
    "import os\n",
    "import sys\n",
    "module_path = os.path.abspath('../..')\n",
    "if module_path not in sys.path:\n",
    "    sys.path.append(module_path)"
   ]
  },
  {
   "cell_type": "code",
   "execution_count": 2,
   "metadata": {},
   "outputs": [],
   "source": [
    "from utils.consensus_tcp import ConsensusMaster, ConsensusAgent"
   ]
  },
  {
   "cell_type": "code",
   "execution_count": 3,
   "metadata": {},
   "outputs": [],
   "source": [
    "topology = [(1, 2), (2, 3)]\n",
    "master = ConsensusMaster(topology, '127.0.0.1', 9000, debug=True)"
   ]
  },
  {
   "cell_type": "code",
   "execution_count": null,
   "metadata": {},
   "outputs": [
    {
     "name": "stdout",
     "output_type": "stream",
     "text": [
      "Serving on ('127.0.0.1', 9000)\n"
     ]
    },
    {
     "name": "stderr",
     "output_type": "stream",
     "text": [
      "Master: Serving...\n",
      "Master: From: ('127.0.0.1', 59310). Registered 1 -> ('127.0.0.1', 9001)!\n",
      "Master: From: ('127.0.0.1', 59312). Registered 3 -> ('127.0.0.1', 9003)!\n",
      "Master: From: ('127.0.0.1', 59316). Registered 2 -> ('127.0.0.1', 9002)!\n",
      "Master: All agents registered! Starting initialization procedure...\n",
      "Master: Sending neighborhood data to 1\n",
      "Master: Waiting for OK...\n",
      "Master: Got OK from 1\n",
      "Master: Sending epsilon to 1\n",
      "Master: Waiting for OK...\n",
      "Master: Got OK from 1\n",
      "Master: Sending neighborhood data to 3\n",
      "Master: Waiting for OK...\n",
      "Master: Got OK from 3\n",
      "Master: Sending epsilon to 3\n",
      "Master: Waiting for OK...\n",
      "Master: Got OK from 3\n",
      "Master: Sending neighborhood data to 2\n",
      "Master: Waiting for OK...\n",
      "Master: Got OK from 2\n",
      "Master: Sending epsilon to 2\n",
      "Master: Waiting for OK...\n",
      "Master: Got OK from 2\n",
      "Master: All agents have been initialized!\n",
      "Master: Got from 2: ProtoNewRoundRequest(weight=1)\n",
      "Master: got NEW_ROUND from \"2\" with weight 1\n",
      "Master: checking DONE: 0/3 converged\n",
      "Master: Got from 3: ProtoNewRoundRequest(weight=1)\n",
      "Master: got NEW_ROUND from \"3\" with weight 1\n",
      "Master: checking DONE: 0/3 converged\n",
      "Master: Got from 1: ProtoNewRoundRequest(weight=1)\n",
      "Master: got NEW_ROUND from \"1\" with weight 1\n",
      "Master: ===== STARTING A NEW ROUND =====\n",
      "Master: checking DONE: 0/3 converged\n",
      "Master: Got from 3: ProtoConverged()\n",
      "Master: got CONVERGED from \"3\"\n",
      "Master: checking DONE: 1/3 converged\n",
      "Master: Got from 1: ProtoConverged()\n",
      "Master: got CONVERGED from \"1\"\n",
      "Master: checking DONE: 2/3 converged\n",
      "Master: Got from 2: ProtoConverged()\n",
      "Master: got CONVERGED from \"2\"\n",
      "Master: checking DONE: 3/3 converged\n",
      "Master: ===== ALL NODES CONVERGED! DONE =====\n",
      "Master: Got from 3: ProtoNewRoundRequest(weight=3)\n",
      "Master: got NEW_ROUND from \"3\" with weight 3\n",
      "Master: checking DONE: 3/3 converged\n",
      "Master: Got from 1: ProtoNewRoundRequest(weight=1)\n",
      "Master: got NEW_ROUND from \"1\" with weight 1\n",
      "Master: checking DONE: 3/3 converged\n",
      "Master: Got from 2: ProtoNewRoundRequest(weight=2)\n",
      "Master: got NEW_ROUND from \"2\" with weight 2\n",
      "Master: ===== STARTING A NEW ROUND =====\n",
      "Master: checking DONE: 0/3 converged\n",
      "Master: Got from 1: ProtoConverged()\n",
      "Master: got CONVERGED from \"1\"\n",
      "Master: checking DONE: 1/3 converged\n",
      "Master: Got from 3: ProtoConverged()\n",
      "Master: got CONVERGED from \"3\"\n",
      "Master: checking DONE: 2/3 converged\n",
      "Master: Got from 2: ProtoConverged()\n",
      "Master: got CONVERGED from \"2\"\n",
      "Master: checking DONE: 3/3 converged\n",
      "Master: ===== ALL NODES CONVERGED! DONE =====\n"
     ]
    }
   ],
   "source": [
    "await master.serve_forever()"
   ]
  },
  {
   "cell_type": "code",
   "execution_count": null,
   "metadata": {},
   "outputs": [],
   "source": []
  }
 ],
 "metadata": {
  "kernelspec": {
   "display_name": "lab",
   "language": "python",
   "name": "lab"
  },
  "language_info": {
   "codemirror_mode": {
    "name": "ipython",
    "version": 3
   },
   "file_extension": ".py",
   "mimetype": "text/x-python",
   "name": "python",
   "nbconvert_exporter": "python",
   "pygments_lexer": "ipython3",
   "version": "3.8.3"
  }
 },
 "nbformat": 4,
 "nbformat_minor": 4
}
