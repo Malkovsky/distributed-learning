{
  "nbformat": 4,
  "nbformat_minor": 0,
  "metadata": {
    "orig_nbformat": 2,
    "colab": {
      "name": "CIFAR-10 Convergence.ipynb",
      "provenance": []
    },
    "kernelspec": {
      "name": "python3",
      "display_name": "Python 3"
    }
  },
  "cells": [
    {
      "cell_type": "code",
      "metadata": {
        "id": "6dwdDEBVZ48r",
        "outputId": "be42d625-0333-4a3a-8d69-134fc316ef2e",
        "colab": {
          "base_uri": "https://localhost:8080/"
        }
      },
      "source": [
        "# % rm -r distributed-learning/\n",
        "! git clone --recurse-submodules https://github.com/ekiuled/distributed-learning\n",
        "# ! git submodule init\n",
        "# ! git submodule update\n",
        "% cd distributed-learning\n",
        "! git checkout convergence"
      ],
      "execution_count": 2,
      "outputs": [
        {
          "output_type": "stream",
          "text": [
            "Cloning into 'distributed-learning'...\n",
            "remote: Enumerating objects: 342, done.\u001b[K\n",
            "remote: Total 342 (delta 0), reused 0 (delta 0), pack-reused 342\u001b[K\n",
            "Receiving objects: 100% (342/342), 23.59 MiB | 20.54 MiB/s, done.\n",
            "Resolving deltas: 100% (185/185), done.\n",
            "Submodule 'wide-resnet.pytorch' (https://github.com/meliketoy/wide-resnet.pytorch.git) registered for path 'wide_resnet_submodule'\n",
            "Cloning into '/content/distributed-learning/wide_resnet_submodule'...\n",
            "remote: Enumerating objects: 13, done.        \n",
            "remote: Counting objects: 100% (13/13), done.        \n",
            "remote: Compressing objects: 100% (10/10), done.        \n",
            "remote: Total 124 (delta 4), reused 11 (delta 3), pack-reused 111        \n",
            "Receiving objects: 100% (124/124), 674.93 KiB | 11.64 MiB/s, done.\n",
            "Resolving deltas: 100% (61/61), done.\n",
            "Submodule path 'wide_resnet_submodule': checked out '292b3ede0651e349dd566f9c23408aa572f1bd92'\n",
            "/content/distributed-learning\n",
            "Branch 'convergence' set up to track remote branch 'convergence' from 'origin'.\n",
            "Switched to a new branch 'convergence'\n"
          ],
          "name": "stdout"
        }
      ]
    },
    {
      "cell_type": "code",
      "metadata": {
        "id": "1_CBVXQNYtod"
      },
      "source": [
        "import torch\n",
        "import torch.nn as nn\n",
        "from torch.utils.data import DataLoader\n",
        "import numpy as np\n",
        "import networkx as nx\n",
        "import matplotlib.pyplot as plt\n",
        "from sklearn.model_selection import train_test_split\n",
        "from pprint import pprint\n",
        "\n",
        "from utils.consensus_node import ConsensusNode\n",
        "from utils.master_node import MasterNode\n",
        "\n",
        "import wide_resnet_submodule.config as cf\n",
        "import torchvision\n",
        "import torchvision.transforms as transforms\n",
        "import torch.nn.functional as F\n",
        "import torch.backends.cudnn as cudnn\n",
        "import torch.optim as optim\n",
        "\n",
        "from wide_resnet_submodule.networks import *\n",
        "from utils.graphs_config import ABC_3, TOP_5, LONELY, edges2topology, adj2edges\n",
        "from utils.functions import fit_batch_cifar, update_params_cifar, calc_accuracy_cifar, get_cumulative_train_loss"
      ],
      "execution_count": 3,
      "outputs": []
    },
    {
      "cell_type": "code",
      "metadata": {
        "id": "44J2-sWNZ4Ti"
      },
      "source": [
        ""
      ],
      "execution_count": null,
      "outputs": []
    }
  ]
}