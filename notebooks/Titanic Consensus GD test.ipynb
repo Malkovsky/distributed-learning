{
 "cells": [
  {
   "cell_type": "markdown",
   "metadata": {},
   "source": [
    "## Тут просто ручная реализация логистической регрессии с сигмоидой и регуляризацией на датасете Titanic"
   ]
  },
  {
   "cell_type": "code",
   "execution_count": 7,
   "metadata": {},
   "outputs": [],
   "source": [
    "import numpy as np\n",
    "import pandas as pd\n",
    "import matplotlib.pyplot as plt\n",
    "\n",
    "import os\n",
    "import sys\n",
    "module_path = os.path.abspath('..')\n",
    "if module_path not in sys.path:\n",
    "    sys.path.append(module_path)"
   ]
  },
  {
   "cell_type": "code",
   "execution_count": 8,
   "metadata": {},
   "outputs": [],
   "source": [
    "def prepare_dataset(df):\n",
    "    df = df.drop(['Name', 'Ticket', 'Cabin', 'Embarked'], axis=1)\n",
    "    df['Sex'] = (train_data['Sex'] == 'male').astype(np.int) * 2 - 1\n",
    "    df = df.fillna({'Age': df['Age'].mean()})\n",
    "    df['Age'] /= 100\n",
    "    df['Fare'] /= 100\n",
    "    df['_bias'] = 1\n",
    "    if 'Survived' in df.columns:\n",
    "        return df.drop(['Survived'], axis=1), (df['Survived'] * 2 - 1)\n",
    "    else:\n",
    "        return df"
   ]
  },
  {
   "cell_type": "code",
   "execution_count": 9,
   "metadata": {
    "scrolled": true
   },
   "outputs": [],
   "source": [
    "train_data = pd.read_csv('../data/titanic/train.csv')\n",
    "train_features, train_answers = prepare_dataset(train_data)"
   ]
  },
  {
   "cell_type": "code",
   "execution_count": 10,
   "metadata": {},
   "outputs": [],
   "source": [
    "features = ['Pclass', 'Sex', 'Age', 'SibSp', 'Parch', 'Fare', '_bias']\n",
    "X = train_features[features].to_numpy()\n",
    "y = train_answers.to_numpy()\n",
    "\n",
    "common_test_X, common_test_y = X[:X.shape[0] // 10], y[:X.shape[0] // 10]\n",
    "X, y = X[X.shape[0] // 10:], y[X.shape[0] // 10:]"
   ]
  },
  {
   "cell_type": "code",
   "execution_count": 11,
   "metadata": {},
   "outputs": [
    {
     "data": {
      "application/vnd.jupyter.widget-view+json": {
       "model_id": "6a15ecc099bc4e7cab50a52806147375",
       "version_major": 2,
       "version_minor": 0
      },
      "text/plain": [
       "HBox(children=(FloatProgress(value=0.0, max=10000.0), HTML(value='')))"
      ]
     },
     "metadata": {},
     "output_type": "display_data"
    },
    {
     "name": "stdout",
     "output_type": "stream",
     "text": [
      "\n"
     ]
    },
    {
     "data": {
      "text/plain": [
       "[<matplotlib.lines.Line2D at 0x7fbadf5001c0>]"
      ]
     },
     "execution_count": 11,
     "metadata": {},
     "output_type": "execute_result"
    },
    {
     "data": {
      "image/png": "[encoded data removed]",
      "text/plain": [
       "<Figure size 432x288 with 1 Axes>"
      ]
     },
     "metadata": {
      "needs_background": "light"
     },
     "output_type": "display_data"
    }
   ],
   "source": [
    "from tqdm.notebook import tqdm\n",
    "iterations = 10000\n",
    "alpha = 5e-4\n",
    "tau = 1e-4\n",
    "\n",
    "def sigmoid(x):\n",
    "    return 1.0 / (1.0 + np.exp(-x))\n",
    "\n",
    "w = np.zeros((X.shape[1]))\n",
    "errors = []\n",
    "best_w = w\n",
    "best_err = None\n",
    "for it in tqdm(range(iterations)):\n",
    "    errors.append(tau / 2 * np.sum(w**2) +\n",
    "                  -np.mean(np.log( sigmoid(y * (X @ w)) ) )\n",
    "                 )\n",
    "    if best_err is None or errors[-1] < best_err:\n",
    "        best_w = w\n",
    "        best_err = errors[-1]\n",
    "    w -= alpha * (-np.array([\n",
    "        np.dot(y * sigmoid(- y * (X @ w)), X[:, j])\n",
    "        for j in range(X.shape[1])\n",
    "    ]) / X.shape[0] + tau * w)\n",
    "    if it % 2000 == 0: alpha *= 0.99\n",
    "\n",
    "plt.plot([i for i in range(len(errors))], errors)"
   ]
  },
  {
   "cell_type": "code",
   "execution_count": 12,
   "metadata": {},
   "outputs": [
    {
     "name": "stdout",
     "output_type": "stream",
     "text": [
      "0.5076849397899177\n"
     ]
    },
    {
     "data": {
      "text/html": [
       "<div>\n",
       "<style scoped>\n",
       "    .dataframe tbody tr th:only-of-type {\n",
       "        vertical-align: middle;\n",
       "    }\n",
       "\n",
       "    .dataframe tbody tr th {\n",
       "        vertical-align: top;\n",
       "    }\n",
       "\n",
       "    .dataframe thead th {\n",
       "        text-align: right;\n",
       "    }\n",
       "</style>\n",
       "<table border=\"1\" class=\"dataframe\">\n",
       "  <thead>\n",
       "    <tr style=\"text-align: right;\">\n",
       "      <th></th>\n",
       "      <th>feature</th>\n",
       "      <th>weight</th>\n",
       "    </tr>\n",
       "  </thead>\n",
       "  <tbody>\n",
       "    <tr>\n",
       "      <th>0</th>\n",
       "      <td>Pclass</td>\n",
       "      <td>-0.275670</td>\n",
       "    </tr>\n",
       "    <tr>\n",
       "      <th>1</th>\n",
       "      <td>Sex</td>\n",
       "      <td>-0.704477</td>\n",
       "    </tr>\n",
       "    <tr>\n",
       "      <th>2</th>\n",
       "      <td>Age</td>\n",
       "      <td>-0.004344</td>\n",
       "    </tr>\n",
       "    <tr>\n",
       "      <th>3</th>\n",
       "      <td>SibSp</td>\n",
       "      <td>-0.044998</td>\n",
       "    </tr>\n",
       "    <tr>\n",
       "      <th>4</th>\n",
       "      <td>Parch</td>\n",
       "      <td>0.069894</td>\n",
       "    </tr>\n",
       "    <tr>\n",
       "      <th>5</th>\n",
       "      <td>Fare</td>\n",
       "      <td>0.220043</td>\n",
       "    </tr>\n",
       "    <tr>\n",
       "      <th>6</th>\n",
       "      <td>_bias</td>\n",
       "      <td>0.077582</td>\n",
       "    </tr>\n",
       "  </tbody>\n",
       "</table>\n",
       "</div>"
      ],
      "text/plain": [
       "  feature    weight\n",
       "0  Pclass -0.275670\n",
       "1     Sex -0.704477\n",
       "2     Age -0.004344\n",
       "3   SibSp -0.044998\n",
       "4   Parch  0.069894\n",
       "5    Fare  0.220043\n",
       "6   _bias  0.077582"
      ]
     },
     "execution_count": 12,
     "metadata": {},
     "output_type": "execute_result"
    }
   ],
   "source": [
    "print(best_err)\n",
    "pd.DataFrame({'feature': features, 'weight': best_w})"
   ]
  },
  {
   "cell_type": "code",
   "execution_count": 13,
   "metadata": {},
   "outputs": [
    {
     "name": "stdout",
     "output_type": "stream",
     "text": [
      "Score: 0.7528089887640449\n"
     ]
    }
   ],
   "source": [
    "train_predictions = (sigmoid(common_test_X @ w) >= 0.5).astype(np.int) * 2 - 1\n",
    "print('Score: {}'.format( np.mean( train_predictions == common_test_y ) ))"
   ]
  },
  {
   "cell_type": "code",
   "execution_count": 14,
   "metadata": {},
   "outputs": [],
   "source": [
    "topology_pair = [(0, 1)]\n",
    "topology_cycle_3 = [(0, 1), (1, 2), (2, 0)] \n",
    "topology_grid_5 = [('center', 'west'), ('center', 'east'), ('center', 'north'), ('center', 'south'),\n",
    "                   ('west', 'north'), ('north', 'east'), ('east', 'south'), ('west', 'south')]\n",
    "'''\n",
    "     @\n",
    "    /|\\\n",
    "   @-@-@  topology_grid_5\n",
    "    \\|/\n",
    "     @\n",
    "'''\n",
    "from utils.consensus_asyncio import *"
   ]
  },
  {
   "cell_type": "markdown",
   "metadata": {},
   "source": [
    "Посчитаем среднее пяти случайных чисел"
   ]
  },
  {
   "cell_type": "code",
   "execution_count": 15,
   "metadata": {},
   "outputs": [
    {
     "name": "stdout",
     "output_type": "stream",
     "text": [
      "2.1897810218978107\n",
      "2.1897810218978107\n",
      "2.18978102189781\n",
      "2.1897810218978107\n",
      "2.1897810218978107\n"
     ]
    },
    {
     "name": "stderr",
     "output_type": "stream",
     "text": [
      "Master: Got 1/5 agents\n",
      "Master: Got 2/5 agents\n",
      "Master: Got 3/5 agents\n",
      "Master: Got 4/5 agents\n",
      "Master: Got 5/5 agents\n",
      "Agent \"west\": heard from master\n",
      "Agent \"north\": heard from master\n",
      "Agent \"center\": heard from master\n",
      "Agent \"east\": heard from master\n",
      "Agent \"south\": heard from master\n",
      "Agent \"west\": got neighbors from master\n",
      "Agent \"west\": got consensus epsilon from master: 0.2375\n",
      "Agent \"north\": got neighbors from master\n",
      "Agent \"north\": got consensus epsilon from master: 0.2375\n",
      "Agent \"center\": got neighbors from master\n",
      "Agent \"center\": got consensus epsilon from master: 0.2375\n",
      "Agent \"east\": got neighbors from master\n",
      "Agent \"east\": got consensus epsilon from master: 0.2375\n",
      "Agent \"south\": got neighbors from master\n",
      "Agent \"south\": got consensus epsilon from master: 0.2375\n",
      "Agent \"west\": running new round with v=1, w=1.0\n",
      "Agent \"west\": initialized. Waiting for NETWORK_READY\n",
      "Agent \"west\": got NETWORK_READY\n",
      "Agent \"west\": clearing queues\n",
      "Agent \"west\": sending NEW_ROUND to master\n",
      "Agent \"north\": running new round with v=2, w=0.5\n",
      "Agent \"north\": initialized. Waiting for NETWORK_READY\n",
      "Agent \"north\": got NETWORK_READY\n",
      "Agent \"north\": clearing queues\n",
      "Agent \"north\": sending NEW_ROUND to master\n",
      "Agent \"center\": running new round with v=3, w=0.3333333333333333\n",
      "Agent \"center\": initialized. Waiting for NETWORK_READY\n",
      "Agent \"center\": got NETWORK_READY\n",
      "Agent \"center\": clearing queues\n",
      "Agent \"center\": sending NEW_ROUND to master\n",
      "Agent \"east\": running new round with v=4, w=0.25\n",
      "Agent \"east\": initialized. Waiting for NETWORK_READY\n",
      "Agent \"east\": got NETWORK_READY\n",
      "Agent \"east\": clearing queues\n",
      "Agent \"east\": sending NEW_ROUND to master\n",
      "Agent \"south\": running new round with v=5, w=0.2\n",
      "Agent \"south\": initialized. Waiting for NETWORK_READY\n",
      "Agent \"south\": got NETWORK_READY\n",
      "Agent \"south\": clearing queues\n",
      "Agent \"south\": sending NEW_ROUND to master\n",
      "Master: serving...\n",
      "Master: got NEW_ROUND from \"west\" with weight 1.0\n",
      "Master: got NEW_ROUND from \"north\" with weight 0.5\n",
      "Master: got NEW_ROUND from \"center\" with weight 0.3333333333333333\n",
      "Master: got NEW_ROUND from \"east\" with weight 0.25\n",
      "Master: got NEW_ROUND from \"south\" with weight 0.2\n",
      "Master: ===== STARTING A NEW ROUND =====\n",
      "Master: checking DONE: 0/5 converged\n",
      "Agent \"west\": NEW_ROUND ack!\n",
      "Agent \"west\": requesting values from neighbors\n",
      "Agent \"north\": NEW_ROUND ack!\n",
      "Agent \"north\": requesting values from neighbors\n",
      "Agent \"center\": NEW_ROUND ack!\n",
      "Agent \"center\": requesting values from neighbors\n",
      "Agent \"east\": NEW_ROUND ack!\n",
      "Agent \"east\": requesting values from neighbors\n",
      "Agent \"south\": NEW_ROUND ack!\n",
      "Agent \"south\": requesting values from neighbors\n",
      "Agent \"west\": sending values to \"center\"\n",
      "Agent \"west\": sending values to \"north\"\n",
      "Agent \"west\": sending values to \"south\"\n",
      "Agent \"north\": sending values to \"center\"\n",
      "Agent \"north\": sending values to \"west\"\n",
      "Agent \"north\": sending values to \"east\"\n",
      "Agent \"center\": sending values to \"west\"\n",
      "Agent \"center\": sending values to \"east\"\n",
      "Agent \"center\": sending values to \"north\"\n",
      "Agent \"center\": sending values to \"south\"\n",
      "Agent \"east\": sending values to \"center\"\n",
      "Agent \"east\": sending values to \"north\"\n",
      "Agent \"east\": sending values to \"south\"\n",
      "Agent \"south\": sending values to \"center\"\n",
      "Agent \"south\": sending values to \"east\"\n",
      "Agent \"south\": sending values to \"west\"\n",
      "Agent \"west\": got value from \"center\": 2.18978102189781!\n",
      "Agent \"west\": got value from \"north\": 2.18978102189781!\n",
      "Agent \"west\": got value from \"south\": 2.18978102189781!\n",
      "Agent \"west\": updated value = 2.1897810218978107, c=True\n",
      "Agent \"west\": sending CONVERGED to master\n",
      "Agent \"west\": requesting values from neighbors\n",
      "Agent \"north\": got value from \"center\": 2.18978102189781!\n",
      "Agent \"north\": got value from \"west\": 2.18978102189781!\n",
      "Agent \"north\": got value from \"east\": 2.18978102189781!\n",
      "Agent \"north\": updated value = 2.1897810218978107, c=True\n",
      "Agent \"north\": sending CONVERGED to master\n",
      "Agent \"north\": requesting values from neighbors\n",
      "Agent \"center\": got value from \"west\": 2.18978102189781!\n",
      "Agent \"center\": got value from \"east\": 2.18978102189781!\n",
      "Agent \"center\": got value from \"north\": 2.18978102189781!\n",
      "Agent \"center\": got value from \"south\": 2.18978102189781!\n",
      "Agent \"center\": updated value = 2.18978102189781, c=True\n",
      "Agent \"center\": sending CONVERGED to master\n",
      "Agent \"center\": requesting values from neighbors\n",
      "Agent \"east\": got value from \"center\": 2.18978102189781!\n",
      "Agent \"east\": got value from \"north\": 2.18978102189781!\n",
      "Agent \"east\": got value from \"south\": 2.18978102189781!\n",
      "Agent \"east\": updated value = 2.1897810218978107, c=True\n",
      "Agent \"east\": sending CONVERGED to master\n",
      "Agent \"east\": requesting values from neighbors\n",
      "Agent \"south\": got value from \"center\": 2.18978102189781!\n",
      "Agent \"south\": got value from \"east\": 2.18978102189781!\n",
      "Agent \"south\": got value from \"west\": 2.18978102189781!\n",
      "Agent \"south\": updated value = 2.1897810218978107, c=True\n",
      "Agent \"south\": sending CONVERGED to master\n",
      "Agent \"south\": requesting values from neighbors\n",
      "Master: got CONVERGED from \"west\"\n",
      "Master: got CONVERGED from \"north\"\n",
      "Master: got CONVERGED from \"center\"\n",
      "Master: got CONVERGED from \"east\"\n",
      "Master: got CONVERGED from \"south\"\n",
      "Master: checking DONE: 5/5 converged\n",
      "Master: ===== ALL NODES CONVERGED! DONE =====\n",
      "Agent \"west\": sending values to \"center\"\n",
      "Agent \"west\": sending values to \"north\"\n",
      "Agent \"west\": sending values to \"south\"\n",
      "Agent \"west\": got DONE from master!!!\n",
      "Agent \"west\": final result: 2.1897810218978107\n",
      "Agent \"north\": sending values to \"center\"\n",
      "Agent \"north\": sending values to \"west\"\n",
      "Agent \"north\": sending values to \"east\"\n",
      "Agent \"north\": got DONE from master!!!\n",
      "Agent \"north\": final result: 2.1897810218978107\n",
      "Agent \"center\": sending values to \"west\"\n",
      "Agent \"center\": sending values to \"east\"\n",
      "Agent \"center\": sending values to \"north\"\n",
      "Agent \"center\": sending values to \"south\"\n",
      "Agent \"center\": got DONE from master!!!\n",
      "Agent \"center\": final result: 2.18978102189781\n",
      "Agent \"east\": sending values to \"center\"\n",
      "Agent \"east\": sending values to \"north\"\n",
      "Agent \"east\": sending values to \"south\"\n",
      "Agent \"east\": got DONE from master!!!\n",
      "Agent \"east\": final result: 2.1897810218978107\n",
      "Agent \"south\": sending values to \"center\"\n",
      "Agent \"south\": sending values to \"east\"\n",
      "Agent \"south\": sending values to \"west\"\n",
      "Agent \"south\": got DONE from master!!!\n",
      "Agent \"south\": final result: 2.1897810218978107\n",
      "Master: ===== SHUTDOWN =====\n"
     ]
    }
   ],
   "source": [
    "consensus_shutdown = asyncio.Queue()\n",
    "consensus_network = ConsensusNetwork(topology_grid_5, consensus_shutdown, debug=True)\n",
    "agents = [ConsensusAgent(token, debug=True) for token in consensus_network.tokens]\n",
    "for a in agents:\n",
    "    consensus_network.register_agent(a)\n",
    "\n",
    "async def shutdown_after_timeout(consensus_shutdown, timeout):\n",
    "    await asyncio.sleep(timeout)\n",
    "    await consensus_shutdown.put(SHUTDOWN)\n",
    "\n",
    "tasks = [asyncio.create_task(a.run_round(n + 1, 1 / (n + 1))) for n, a in enumerate(agents)]\n",
    "asyncio.create_task(consensus_network.serve())\n",
    "asyncio.create_task(shutdown_after_timeout(consensus_shutdown, 1))\n",
    "for coro in asyncio.as_completed(tasks):\n",
    "    t = await coro\n",
    "    print(t)"
   ]
  },
  {
   "cell_type": "markdown",
   "metadata": {},
   "source": [
    "## Применение для титаника"
   ]
  },
  {
   "cell_type": "code",
   "execution_count": 16,
   "metadata": {},
   "outputs": [],
   "source": [
    "def split_data(X, y, topology):\n",
    "    tmpX = X.copy()\n",
    "    tmpy = y.copy()\n",
    "    tokens = list(set(np.array(topology).flatten()))\n",
    "    num = len(tokens)\n",
    "    result = dict()\n",
    "    for i in range(num):\n",
    "        left_tokens = num - i\n",
    "        left_data = len(tmpX)\n",
    "        ln = left_data // left_tokens\n",
    "        result[tokens[i]] = (tmpX[:ln], tmpy[:ln])\n",
    "        tmpX, tmpy = tmpX[ln:], tmpy[ln:]\n",
    "    return result"
   ]
  },
  {
   "cell_type": "code",
   "execution_count": 17,
   "metadata": {},
   "outputs": [
    {
     "name": "stdout",
     "output_type": "stream",
     "text": [
      "Laplacian:\n",
      "[[ 3 -1 -1  0 -1]\n",
      " [-1  3 -1 -1  0]\n",
      " [-1 -1  4 -1 -1]\n",
      " [ 0 -1 -1  3 -1]\n",
      " [-1  0 -1 -1  3]]\n",
      "Eigenvalues: [0. 3. 3. 5. 5.]\n",
      "Algebraic connectivity: 2.999999999999998\n",
      "Perron matrix:\n",
      "[[0.2875 0.2375 0.2375 0.     0.2375]\n",
      " [0.2375 0.2875 0.2375 0.2375 0.    ]\n",
      " [0.2375 0.2375 0.05   0.2375 0.2375]\n",
      " [0.     0.2375 0.2375 0.2875 0.2375]\n",
      " [0.2375 0.     0.2375 0.2375 0.2875]]\n",
      "Eigenvalues: [-0.1875 -0.1875  0.2875  0.2875  1.    ]\n",
      "Convergence speed: 0.18749999999999978\n"
     ]
    }
   ],
   "source": [
    "from utils.consensus_asyncio import *\n",
    "consensus_network = ConsensusNetwork(topology_grid_5, None)\n",
    "consensus_network.describe()"
   ]
  },
  {
   "cell_type": "markdown",
   "metadata": {},
   "source": [
    "Вычисление 10000 итераций может занять минут 10, т.к. пока всё в один поток."
   ]
  },
  {
   "cell_type": "code",
   "execution_count": 18,
   "metadata": {},
   "outputs": [
    {
     "data": {
      "application/vnd.jupyter.widget-view+json": {
       "model_id": "337ff4844d9340c990a4fbdb08cfaaf0",
       "version_major": 2,
       "version_minor": 0
      },
      "text/plain": [
       "FloatProgress(value=0.0, max=1.0)"
      ]
     },
     "metadata": {},
     "output_type": "display_data"
    },
    {
     "name": "stdout",
     "output_type": "stream",
     "text": [
      "Score: 0.8089887640449438\n",
      "Score: 0.8089887640449438\n",
      "Score: 0.8089887640449438\n",
      "Score: 0.8089887640449438\n",
      "Score: 0.8089887640449438\n",
      "W: [-0.83225111 -2.85822261  0.0502653  -0.15454473  0.33420918  1.04908348\n",
      "  0.55818859]\n",
      "W: [-0.83224841 -2.85821341  0.05026513 -0.15454422  0.33420813  1.04908009\n",
      "  0.55818679]\n",
      "W: [-0.83224978 -2.85821805  0.05026521 -0.15454449  0.33420867  1.04908179\n",
      "  0.5581877 ]\n",
      "W: [-0.83225136 -2.85822346  0.05026531 -0.1545448   0.3342093   1.04908378\n",
      "  0.55818875]\n",
      "W: [-0.83225088 -2.85822183  0.05026528 -0.15454469  0.3342091   1.04908319\n",
      "  0.55818844]\n"
     ]
    },
    {
     "data": {
      "image/png": "[encoded data removed]",
      "text/plain": [
       "<Figure size 432x288 with 1 Axes>"
      ]
     },
     "metadata": {
      "needs_background": "light"
     },
     "output_type": "display_data"
    }
   ],
   "source": [
    "def sigmoid(x):\n",
    "        return 1.0 / (1.0 + np.exp(-x))\n",
    "\n",
    "progress_info = {}\n",
    "\n",
    "async def learning_instance(X, y, agent, iterations=50000):\n",
    "    alpha = 5e-4\n",
    "    tau = 1e-4\n",
    "\n",
    "    w = np.zeros((X.shape[1]))\n",
    "    errors = []\n",
    "    for it in range(iterations):\n",
    "        errors.append(tau / 2 * np.sum(w**2) +\n",
    "                      -np.mean(np.log( sigmoid(y * (X @ w)) ) )\n",
    "                     )\n",
    "        grad = -np.array([\n",
    "            np.dot(y * sigmoid(- y * (X @ w)), X[:, j])\n",
    "            for j in range(X.shape[1])\n",
    "        ]) / X.shape[0] + tau * w\n",
    "        w -= alpha * grad\n",
    "        w = await agent.run_round(w, X.shape[0])\n",
    "        if it % 2000 == 0: alpha *= 0.99\n",
    "        progress_info[agent.token] = (it + 1) / iterations\n",
    "\n",
    "    return w, errors[-1], errors\n",
    "\n",
    "async def run(topology, iterations=100, timeout=None, debug=False):\n",
    "    dl_data = split_data(X, y, topology)\n",
    "    consensus_shutdown = asyncio.Queue()\n",
    "    consensus_network = ConsensusNetwork(topology, consensus_shutdown, debug=debug)\n",
    "    agents = [ConsensusAgent(token, convergence_eps=1e-5, debug=debug) for token in consensus_network.tokens]\n",
    "    for a in agents:\n",
    "        consensus_network.register_agent(a)\n",
    "\n",
    "    async def print_progress():\n",
    "        from ipywidgets import IntProgress, FloatProgress, FloatText\n",
    "        from IPython.display import display\n",
    "\n",
    "        progress = FloatProgress(min=0.0, max=1.0, step=0.01, value=0.0)\n",
    "        display(progress)\n",
    "        while True:\n",
    "            v = list(progress_info.values())\n",
    "            if len(v) > 0:\n",
    "                p = np.mean(v)\n",
    "                progress.value = p\n",
    "            await asyncio.sleep(0.25)\n",
    "\n",
    "    if timeout:\n",
    "        asyncio.create_task(shutdown_after_timeout(consensus_shutdown, timeout))\n",
    "    progress_task = asyncio.create_task(print_progress())\n",
    "    tasks = [asyncio.create_task(\n",
    "                learning_instance(dl_data[a.token][0], dl_data[a.token][1], a, iterations=iterations)\n",
    "             ) for a in agents]\n",
    "    asyncio.create_task(consensus_network.serve())\n",
    "    best_ws = []\n",
    "    for coro in asyncio.as_completed(tasks):\n",
    "        best_w, best_err, errors = await coro\n",
    "        best_ws.append(best_w)\n",
    "        plt.plot([i for i in range(len(errors))], errors)\n",
    "    plt.suptitle('Local learning error across agents')\n",
    "    progress_task.cancel()\n",
    "\n",
    "    for w in best_ws:\n",
    "        train_predictions = (sigmoid(common_test_X @ w) >= 0.5).astype(np.int) * 2 - 1\n",
    "        print(f'Score: {np.mean( train_predictions == common_test_y )}')\n",
    "\n",
    "    for w in best_ws:\n",
    "        print(f'W: {w}')\n",
    "\n",
    "await run(topology_grid_5, 10000)"
   ]
  },
  {
   "cell_type": "code",
   "execution_count": null,
   "metadata": {},
   "outputs": [],
   "source": []
  }
 ],
 "metadata": {
  "kernelspec": {
   "display_name": "Python 3",
   "language": "python",
   "name": "python3"
  },
  "language_info": {
   "codemirror_mode": {
    "name": "ipython",
    "version": 3
   },
   "file_extension": ".py",
   "mimetype": "text/x-python",
   "name": "python",
   "nbconvert_exporter": "python",
   "pygments_lexer": "ipython3",
   "version": "3.8.3"
  }
 },
 "nbformat": 4,
 "nbformat_minor": 4
}
