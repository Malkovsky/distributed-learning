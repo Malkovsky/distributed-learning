{
 "cells": [
  {
   "cell_type": "markdown",
   "metadata": {},
   "source": [
    "# Consensus basics\n",
    "A basic linear average consensus is a distributed decentralized algorithm that calculates the average of several numbers each stored on a separate computation node. Suppose that \n",
    "* $x_i(0)$ is the initial value stored at node $i$ and $x(0)=(x_1(0), \\ldots, x_n(0))^T$\n",
    "* Let $\\mathcal{N}(i)$ be the set of all neighbours of $i$ which means $i$ has i direct communication with nodes in $\\mathcal{N}(i)$ and can view the values stored in these nodes\n",
    "\n",
    "Consensus protocol is a linear a protocol\n",
    "$$\n",
    "\\DeclareMathOperator*\\diag{diag}\n",
    "x_i(k+1)=x_i(k)+\\gamma\\sum_{j\\in \\mathcal{N}(i)}a_{ij}(x_j(k)-x_i(k))\n",
    "$$\n",
    "or if we denote by $A=(a_{ij})$ the adjacency matrix and by $\\mathcal{D}=\\diag\\{d_1, \\ldots, d_n\\}$ with $d_i=\\sum_{j\\in\\mathcal{N}(i)}a_{ij}$ and with <i>laplacian</i> $\\mathcal{L}=\\mathcal{D}-A$ the process above can be rewritten in matrix form\n",
    "$$\n",
    "x(k+1)=x(k)-\\gamma\\mathcal{L}x(k)=(I-\\gamma \\mathcal{L})x(k).\n",
    "$$\n",
    "Note that row sum of $\\mathcal{0}$ is zero and so the matrix $I-\\gamma\\mathcal{L}$ is stochastic (its row sum is one), it also applies vice versa: for any stochastic matrix $S$ the matrix $I-S$ is the laplacian of some graph.\n",
    "\n",
    "Now lets look at the sum of the components of $x$:\n",
    "$$\n",
    "\\begin{array}{rl}\n",
    "\\end{array}\n",
    "$$"
   ]
  }
 ],
 "metadata": {
  "kernelspec": {
   "display_name": "Python 3",
   "language": "python",
   "name": "python3"
  },
  "language_info": {
   "codemirror_mode": {
    "name": "ipython",
    "version": 3
   },
   "file_extension": ".py",
   "mimetype": "text/x-python",
   "name": "python",
   "nbconvert_exporter": "python",
   "pygments_lexer": "ipython3",
   "version": "3.8.3"
  },
  "widgets": {
   "application/vnd.jupyter.widget-state+json": {
    "state": {},
    "version_major": 2,
    "version_minor": 0
   }
  }
 },
 "nbformat": 4,
 "nbformat_minor": 4
}
